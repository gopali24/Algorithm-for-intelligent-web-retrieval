{
 "cells": [
  {
   "cell_type": "markdown",
   "metadata": {},
   "source": [
    "## Importing the required libraries"
   ]
  },
  {
   "cell_type": "code",
   "execution_count": 1,
   "metadata": {},
   "outputs": [
    {
     "name": "stdout",
     "output_type": "stream",
     "text": [
      "Requirement already satisfied: textblob in d:\\anaconda\\lib\\site-packages (0.17.1)\n",
      "Requirement already satisfied: nltk>=3.1; python_version >= \"3\" in d:\\anaconda\\lib\\site-packages (from textblob) (3.4.5)\n",
      "Requirement already satisfied: six in d:\\anaconda\\lib\\site-packages (from nltk>=3.1; python_version >= \"3\"->textblob) (1.12.0)\n"
     ]
    }
   ],
   "source": [
    "!python -m pip install textblob"
   ]
  },
  {
   "cell_type": "code",
   "execution_count": 2,
   "metadata": {},
   "outputs": [
    {
     "name": "stderr",
     "output_type": "stream",
     "text": [
      "D:\\Anaconda\\lib\\site-packages\\sklearn\\feature_extraction\\image.py:167: DeprecationWarning: `np.int` is a deprecated alias for the builtin `int`. To silence this warning, use `int` by itself. Doing this will not modify any behavior and is safe. When replacing `np.int`, you may wish to use e.g. `np.int64` or `np.int32` to specify the precision. If you wish to review your current use, check the release note link for additional information.\n",
      "Deprecated in NumPy 1.20; for more details and guidance: https://numpy.org/devdocs/release/1.20.0-notes.html#deprecations\n",
      "  dtype=np.int):\n",
      "D:\\Anaconda\\lib\\site-packages\\sklearn\\linear_model\\least_angle.py:30: DeprecationWarning: `np.float` is a deprecated alias for the builtin `float`. To silence this warning, use `float` by itself. Doing this will not modify any behavior and is safe. If you specifically wanted the numpy scalar type, use `np.float64` here.\n",
      "Deprecated in NumPy 1.20; for more details and guidance: https://numpy.org/devdocs/release/1.20.0-notes.html#deprecations\n",
      "  method='lar', copy_X=True, eps=np.finfo(np.float).eps,\n",
      "D:\\Anaconda\\lib\\site-packages\\sklearn\\linear_model\\least_angle.py:167: DeprecationWarning: `np.float` is a deprecated alias for the builtin `float`. To silence this warning, use `float` by itself. Doing this will not modify any behavior and is safe. If you specifically wanted the numpy scalar type, use `np.float64` here.\n",
      "Deprecated in NumPy 1.20; for more details and guidance: https://numpy.org/devdocs/release/1.20.0-notes.html#deprecations\n",
      "  method='lar', copy_X=True, eps=np.finfo(np.float).eps,\n",
      "D:\\Anaconda\\lib\\site-packages\\sklearn\\linear_model\\least_angle.py:284: DeprecationWarning: `np.float` is a deprecated alias for the builtin `float`. To silence this warning, use `float` by itself. Doing this will not modify any behavior and is safe. If you specifically wanted the numpy scalar type, use `np.float64` here.\n",
      "Deprecated in NumPy 1.20; for more details and guidance: https://numpy.org/devdocs/release/1.20.0-notes.html#deprecations\n",
      "  eps=np.finfo(np.float).eps, copy_Gram=True, verbose=0,\n",
      "D:\\Anaconda\\lib\\site-packages\\sklearn\\linear_model\\least_angle.py:862: DeprecationWarning: `np.float` is a deprecated alias for the builtin `float`. To silence this warning, use `float` by itself. Doing this will not modify any behavior and is safe. If you specifically wanted the numpy scalar type, use `np.float64` here.\n",
      "Deprecated in NumPy 1.20; for more details and guidance: https://numpy.org/devdocs/release/1.20.0-notes.html#deprecations\n",
      "  eps=np.finfo(np.float).eps, copy_X=True, fit_path=True,\n",
      "D:\\Anaconda\\lib\\site-packages\\sklearn\\linear_model\\least_angle.py:1101: DeprecationWarning: `np.float` is a deprecated alias for the builtin `float`. To silence this warning, use `float` by itself. Doing this will not modify any behavior and is safe. If you specifically wanted the numpy scalar type, use `np.float64` here.\n",
      "Deprecated in NumPy 1.20; for more details and guidance: https://numpy.org/devdocs/release/1.20.0-notes.html#deprecations\n",
      "  eps=np.finfo(np.float).eps, copy_X=True, fit_path=True,\n",
      "D:\\Anaconda\\lib\\site-packages\\sklearn\\linear_model\\least_angle.py:1127: DeprecationWarning: `np.float` is a deprecated alias for the builtin `float`. To silence this warning, use `float` by itself. Doing this will not modify any behavior and is safe. If you specifically wanted the numpy scalar type, use `np.float64` here.\n",
      "Deprecated in NumPy 1.20; for more details and guidance: https://numpy.org/devdocs/release/1.20.0-notes.html#deprecations\n",
      "  eps=np.finfo(np.float).eps, positive=False):\n",
      "D:\\Anaconda\\lib\\site-packages\\sklearn\\linear_model\\least_angle.py:1362: DeprecationWarning: `np.float` is a deprecated alias for the builtin `float`. To silence this warning, use `float` by itself. Doing this will not modify any behavior and is safe. If you specifically wanted the numpy scalar type, use `np.float64` here.\n",
      "Deprecated in NumPy 1.20; for more details and guidance: https://numpy.org/devdocs/release/1.20.0-notes.html#deprecations\n",
      "  max_n_alphas=1000, n_jobs=None, eps=np.finfo(np.float).eps,\n",
      "D:\\Anaconda\\lib\\site-packages\\sklearn\\linear_model\\least_angle.py:1602: DeprecationWarning: `np.float` is a deprecated alias for the builtin `float`. To silence this warning, use `float` by itself. Doing this will not modify any behavior and is safe. If you specifically wanted the numpy scalar type, use `np.float64` here.\n",
      "Deprecated in NumPy 1.20; for more details and guidance: https://numpy.org/devdocs/release/1.20.0-notes.html#deprecations\n",
      "  max_n_alphas=1000, n_jobs=None, eps=np.finfo(np.float).eps,\n",
      "D:\\Anaconda\\lib\\site-packages\\sklearn\\linear_model\\least_angle.py:1738: DeprecationWarning: `np.float` is a deprecated alias for the builtin `float`. To silence this warning, use `float` by itself. Doing this will not modify any behavior and is safe. If you specifically wanted the numpy scalar type, use `np.float64` here.\n",
      "Deprecated in NumPy 1.20; for more details and guidance: https://numpy.org/devdocs/release/1.20.0-notes.html#deprecations\n",
      "  eps=np.finfo(np.float).eps, copy_X=True, positive=False):\n"
     ]
    }
   ],
   "source": [
    "import pandas as pd\n",
    "import matplotlib.pyplot as plt\n",
    "import seaborn as sns\n",
    "from textblob import TextBlob\n",
    "import re\n",
    "from nltk.corpus import stopwords\n",
    "from nltk.stem.wordnet import WordNetLemmatizer\n",
    "from sklearn.feature_extraction.text import CountVectorizer, TfidfTransformer\n",
    "from sklearn.naive_bayes import MultinomialNB\n",
    "from sklearn.model_selection import train_test_split\n",
    "from sklearn.pipeline import Pipeline\n",
    "from sklearn.metrics import confusion_matrix, classification_report,accuracy_score"
   ]
  },
  {
   "cell_type": "markdown",
   "metadata": {},
   "source": [
    "## Reading and Extracting data from .csv files"
   ]
  },
  {
   "cell_type": "code",
   "execution_count": 3,
   "metadata": {},
   "outputs": [
    {
     "data": {
      "text/html": [
       "<div>\n",
       "<style scoped>\n",
       "    .dataframe tbody tr th:only-of-type {\n",
       "        vertical-align: middle;\n",
       "    }\n",
       "\n",
       "    .dataframe tbody tr th {\n",
       "        vertical-align: top;\n",
       "    }\n",
       "\n",
       "    .dataframe thead th {\n",
       "        text-align: right;\n",
       "    }\n",
       "</style>\n",
       "<table border=\"1\" class=\"dataframe\">\n",
       "  <thead>\n",
       "    <tr style=\"text-align: right;\">\n",
       "      <th></th>\n",
       "      <th>subreddit</th>\n",
       "      <th>post</th>\n",
       "    </tr>\n",
       "  </thead>\n",
       "  <tbody>\n",
       "    <tr>\n",
       "      <td>0</td>\n",
       "      <td>0</td>\n",
       "      <td>Does anyone else like taking long walks while ...</td>\n",
       "    </tr>\n",
       "    <tr>\n",
       "      <td>1</td>\n",
       "      <td>0</td>\n",
       "      <td>Meditation is making me anxious I do a couple ...</td>\n",
       "    </tr>\n",
       "    <tr>\n",
       "      <td>2</td>\n",
       "      <td>0</td>\n",
       "      <td>Rant about anxiety meds - I've been self medic...</td>\n",
       "    </tr>\n",
       "    <tr>\n",
       "      <td>3</td>\n",
       "      <td>0</td>\n",
       "      <td>Some advice for my friend please? I dated this...</td>\n",
       "    </tr>\n",
       "    <tr>\n",
       "      <td>4</td>\n",
       "      <td>0</td>\n",
       "      <td>Feeling like I’m back to where I started. I’ve...</td>\n",
       "    </tr>\n",
       "    <tr>\n",
       "      <td>...</td>\n",
       "      <td>...</td>\n",
       "      <td>...</td>\n",
       "    </tr>\n",
       "    <tr>\n",
       "      <td>595</td>\n",
       "      <td>2</td>\n",
       "      <td>I wish there was a way to feel like less of a ...</td>\n",
       "    </tr>\n",
       "    <tr>\n",
       "      <td>596</td>\n",
       "      <td>2</td>\n",
       "      <td>First Date Jitters Hey friends!\\n\\n&amp;amp;#x200B...</td>\n",
       "    </tr>\n",
       "    <tr>\n",
       "      <td>597</td>\n",
       "      <td>2</td>\n",
       "      <td>Issues at work, again. I work for an overall s...</td>\n",
       "    </tr>\n",
       "    <tr>\n",
       "      <td>598</td>\n",
       "      <td>2</td>\n",
       "      <td>How do I (21F) carry on? I’ve been dealing wit...</td>\n",
       "    </tr>\n",
       "    <tr>\n",
       "      <td>599</td>\n",
       "      <td>2</td>\n",
       "      <td>Ketamine infusions New here.  Has anyone had k...</td>\n",
       "    </tr>\n",
       "  </tbody>\n",
       "</table>\n",
       "<p>600 rows × 2 columns</p>\n",
       "</div>"
      ],
      "text/plain": [
       "     subreddit                                               post\n",
       "0            0  Does anyone else like taking long walks while ...\n",
       "1            0  Meditation is making me anxious I do a couple ...\n",
       "2            0  Rant about anxiety meds - I've been self medic...\n",
       "3            0  Some advice for my friend please? I dated this...\n",
       "4            0  Feeling like I’m back to where I started. I’ve...\n",
       "..         ...                                                ...\n",
       "595          2  I wish there was a way to feel like less of a ...\n",
       "596          2  First Date Jitters Hey friends!\\n\\n&amp;#x200B...\n",
       "597          2  Issues at work, again. I work for an overall s...\n",
       "598          2  How do I (21F) carry on? I’ve been dealing wit...\n",
       "599          2  Ketamine infusions New here.  Has anyone had k...\n",
       "\n",
       "[600 rows x 2 columns]"
      ]
     },
     "execution_count": 3,
     "metadata": {},
     "output_type": "execute_result"
    }
   ],
   "source": [
    "train_tweets = pd.read_csv('export_final_train.csv')\n",
    "test_tweets = pd.read_csv('export_final_test.csv')\n",
    "\n",
    "train_tweets"
   ]
  },
  {
   "cell_type": "code",
   "execution_count": 4,
   "metadata": {},
   "outputs": [
    {
     "data": {
      "text/plain": [
       "0      Feel like life is over because I complimented ...\n",
       "1      Skin is crawling and weird sleeping Wellburtin...\n",
       "2      Anxiety: what helps and when to consult a psyc...\n",
       "3      Can you identify this feeling? I sometimes hav...\n",
       "4      I’m not sure why this happens. My sister plays...\n",
       "                             ...                        \n",
       "205    PTSD episode on Dr. Phil So, recently theres t...\n",
       "206    Did anyone else with PTSD who watched James' M...\n",
       "207    I'm having bad episodes, and I am not sure why...\n",
       "208    I am of value. My value is not something I hav...\n",
       "209    Do they actually care? Feels like the people I...\n",
       "Name: post, Length: 210, dtype: object"
      ]
     },
     "execution_count": 4,
     "metadata": {},
     "output_type": "execute_result"
    }
   ],
   "source": [
    "train_tweets = train_tweets[['subreddit','post']]\n",
    "test = test_tweets['post']\n",
    "test"
   ]
  },
  {
   "cell_type": "markdown",
   "metadata": {},
   "source": [
    "## Exploratory Data Analysis"
   ]
  },
  {
   "cell_type": "code",
   "execution_count": 5,
   "metadata": {},
   "outputs": [],
   "source": [
    "# train_tweets['length'] = train_tweets['post'].apply(len)\n",
    "# fig1 = sns.barplot('subreddit','post',data = train_tweets,palette='PRGn')\n",
    "# plt.title('Average Word Length vs label')\n",
    "# plot = fig1.get_figure()\n",
    "# plot.savefig('Barplot.png')"
   ]
  },
  {
   "cell_type": "code",
   "execution_count": 6,
   "metadata": {},
   "outputs": [
    {
     "data": {
      "image/png": "[encoded data removed]",
      "text/plain": [
       "<Figure size 432x288 with 1 Axes>"
      ]
     },
     "metadata": {
      "needs_background": "light"
     },
     "output_type": "display_data"
    }
   ],
   "source": [
    "fig2 = sns.countplot(x= 'subreddit',data = train_tweets)\n",
    "plt.title('Label Counts')\n",
    "plot = fig2.get_figure()\n",
    "plot.savefig('Count Plot.png')"
   ]
  },
  {
   "cell_type": "markdown",
   "metadata": {},
   "source": [
    "## Feature Engineering"
   ]
  },
  {
   "cell_type": "code",
   "execution_count": 7,
   "metadata": {},
   "outputs": [],
   "source": [
    "def text_processing(tweet):\n",
    "    \n",
    "    #Generating the list of words in the tweet (hastags and other punctuations removed)\n",
    "    def form_sentence(tweet):\n",
    "        tweet_blob = TextBlob(tweet)\n",
    "        return ' '.join(tweet_blob.words)\n",
    "    new_tweet = form_sentence(tweet)\n",
    "    \n",
    "    #Removing stopwords and words with unusual symbols\n",
    "    def no_user_alpha(tweet):\n",
    "        tweet_list = [ele for ele in tweet.split()]\n",
    "        clean_tokens = [t for t in tweet_list if re.match(r'[^\\W\\d]*$', t)]\n",
    "        clean_s = ' '.join(clean_tokens)\n",
    "        clean_mess = [word for word in clean_s.split() if word.lower() not in stopwords.words('english')]\n",
    "        return clean_mess\n",
    "    no_punc_tweet = no_user_alpha(new_tweet)\n",
    "    \n",
    "    #Normalizing the words in tweets \n",
    "    def normalization(tweet_list):\n",
    "        lem = WordNetLemmatizer()\n",
    "        normalized_tweet = []\n",
    "        for word in tweet_list:\n",
    "            normalized_text = lem.lemmatize(word,'v')\n",
    "            normalized_tweet.append(normalized_text)\n",
    "        return normalized_tweet\n",
    "    \n",
    "    \n",
    "    return normalization(no_punc_tweet)"
   ]
  },
  {
   "cell_type": "code",
   "execution_count": 8,
   "metadata": {},
   "outputs": [],
   "source": [
    "train_tweets['tweet_list'] = train_tweets['post'].apply(text_processing)\n",
    "test_tweets['tweet_list'] = test_tweets['post'].apply(text_processing)"
   ]
  },
  {
   "cell_type": "code",
   "execution_count": 9,
   "metadata": {},
   "outputs": [
    {
     "data": {
      "text/html": [
       "<div>\n",
       "<style scoped>\n",
       "    .dataframe tbody tr th:only-of-type {\n",
       "        vertical-align: middle;\n",
       "    }\n",
       "\n",
       "    .dataframe tbody tr th {\n",
       "        vertical-align: top;\n",
       "    }\n",
       "\n",
       "    .dataframe thead th {\n",
       "        text-align: right;\n",
       "    }\n",
       "</style>\n",
       "<table border=\"1\" class=\"dataframe\">\n",
       "  <thead>\n",
       "    <tr style=\"text-align: right;\">\n",
       "      <th></th>\n",
       "      <th>subreddit</th>\n",
       "      <th>post</th>\n",
       "      <th>tweet_list</th>\n",
       "    </tr>\n",
       "  </thead>\n",
       "  <tbody>\n",
       "    <tr>\n",
       "      <td>0</td>\n",
       "      <td>0</td>\n",
       "      <td>Does anyone else like taking long walks while ...</td>\n",
       "      <td>[anyone, else, like, take, long, walk, snow, E...</td>\n",
       "    </tr>\n",
       "    <tr>\n",
       "      <td>1</td>\n",
       "      <td>0</td>\n",
       "      <td>Meditation is making me anxious I do a couple ...</td>\n",
       "      <td>[Meditation, make, anxious, couple, sessions, ...</td>\n",
       "    </tr>\n",
       "    <tr>\n",
       "      <td>2</td>\n",
       "      <td>0</td>\n",
       "      <td>Rant about anxiety meds - I've been self medic...</td>\n",
       "      <td>[Rant, anxiety, meds, self, medicate, Benzodia...</td>\n",
       "    </tr>\n",
       "    <tr>\n",
       "      <td>3</td>\n",
       "      <td>0</td>\n",
       "      <td>Some advice for my friend please? I dated this...</td>\n",
       "      <td>[advice, friend, please, date, girl, year, mov...</td>\n",
       "    </tr>\n",
       "    <tr>\n",
       "      <td>4</td>\n",
       "      <td>0</td>\n",
       "      <td>Feeling like I’m back to where I started. I’ve...</td>\n",
       "      <td>[Feeling, like, back, start, feel, lot, better...</td>\n",
       "    </tr>\n",
       "    <tr>\n",
       "      <td>...</td>\n",
       "      <td>...</td>\n",
       "      <td>...</td>\n",
       "      <td>...</td>\n",
       "    </tr>\n",
       "    <tr>\n",
       "      <td>595</td>\n",
       "      <td>2</td>\n",
       "      <td>I wish there was a way to feel like less of a ...</td>\n",
       "      <td>[wish, way, feel, like, less, target, saw, vid...</td>\n",
       "    </tr>\n",
       "    <tr>\n",
       "      <td>596</td>\n",
       "      <td>2</td>\n",
       "      <td>First Date Jitters Hey friends!\\n\\n&amp;amp;#x200B...</td>\n",
       "      <td>[First, Date, Jitters, Hey, friends, amp, TL, ...</td>\n",
       "    </tr>\n",
       "    <tr>\n",
       "      <td>597</td>\n",
       "      <td>2</td>\n",
       "      <td>Issues at work, again. I work for an overall s...</td>\n",
       "      <td>[Issues, work, work, overall, supportive, comp...</td>\n",
       "    </tr>\n",
       "    <tr>\n",
       "      <td>598</td>\n",
       "      <td>2</td>\n",
       "      <td>How do I (21F) carry on? I’ve been dealing wit...</td>\n",
       "      <td>[carry, deal, PTSD, since, young, adult, worse...</td>\n",
       "    </tr>\n",
       "    <tr>\n",
       "      <td>599</td>\n",
       "      <td>2</td>\n",
       "      <td>Ketamine infusions New here.  Has anyone had k...</td>\n",
       "      <td>[Ketamine, infusions, New, anyone, ketamine, i...</td>\n",
       "    </tr>\n",
       "  </tbody>\n",
       "</table>\n",
       "<p>600 rows × 3 columns</p>\n",
       "</div>"
      ],
      "text/plain": [
       "     subreddit                                               post  \\\n",
       "0            0  Does anyone else like taking long walks while ...   \n",
       "1            0  Meditation is making me anxious I do a couple ...   \n",
       "2            0  Rant about anxiety meds - I've been self medic...   \n",
       "3            0  Some advice for my friend please? I dated this...   \n",
       "4            0  Feeling like I’m back to where I started. I’ve...   \n",
       "..         ...                                                ...   \n",
       "595          2  I wish there was a way to feel like less of a ...   \n",
       "596          2  First Date Jitters Hey friends!\\n\\n&amp;#x200B...   \n",
       "597          2  Issues at work, again. I work for an overall s...   \n",
       "598          2  How do I (21F) carry on? I’ve been dealing wit...   \n",
       "599          2  Ketamine infusions New here.  Has anyone had k...   \n",
       "\n",
       "                                            tweet_list  \n",
       "0    [anyone, else, like, take, long, walk, snow, E...  \n",
       "1    [Meditation, make, anxious, couple, sessions, ...  \n",
       "2    [Rant, anxiety, meds, self, medicate, Benzodia...  \n",
       "3    [advice, friend, please, date, girl, year, mov...  \n",
       "4    [Feeling, like, back, start, feel, lot, better...  \n",
       "..                                                 ...  \n",
       "595  [wish, way, feel, like, less, target, saw, vid...  \n",
       "596  [First, Date, Jitters, Hey, friends, amp, TL, ...  \n",
       "597  [Issues, work, work, overall, supportive, comp...  \n",
       "598  [carry, deal, PTSD, since, young, adult, worse...  \n",
       "599  [Ketamine, infusions, New, anyone, ketamine, i...  \n",
       "\n",
       "[600 rows x 3 columns]"
      ]
     },
     "execution_count": 9,
     "metadata": {},
     "output_type": "execute_result"
    }
   ],
   "source": [
    "train_tweets"
   ]
  },
  {
   "cell_type": "code",
   "execution_count": 10,
   "metadata": {},
   "outputs": [
    {
     "data": {
      "text/html": [
       "<div>\n",
       "<style scoped>\n",
       "    .dataframe tbody tr th:only-of-type {\n",
       "        vertical-align: middle;\n",
       "    }\n",
       "\n",
       "    .dataframe tbody tr th {\n",
       "        vertical-align: top;\n",
       "    }\n",
       "\n",
       "    .dataframe thead th {\n",
       "        text-align: right;\n",
       "    }\n",
       "</style>\n",
       "<table border=\"1\" class=\"dataframe\">\n",
       "  <thead>\n",
       "    <tr style=\"text-align: right;\">\n",
       "      <th></th>\n",
       "      <th>subreddit</th>\n",
       "      <th>tweet_list</th>\n",
       "    </tr>\n",
       "  </thead>\n",
       "  <tbody>\n",
       "    <tr>\n",
       "      <td>200</td>\n",
       "      <td>1</td>\n",
       "      <td>[friends, many, Throwaway, account, tire, feel...</td>\n",
       "    </tr>\n",
       "    <tr>\n",
       "      <td>201</td>\n",
       "      <td>1</td>\n",
       "      <td>[think, admit, psych, ward, really, bad, episo...</td>\n",
       "    </tr>\n",
       "    <tr>\n",
       "      <td>202</td>\n",
       "      <td>1</td>\n",
       "      <td>[Girlfriend, BPD, need, help, discuss, things,...</td>\n",
       "    </tr>\n",
       "    <tr>\n",
       "      <td>203</td>\n",
       "      <td>1</td>\n",
       "      <td>[Dealing, loss, life, years, old, quiet, borde...</td>\n",
       "    </tr>\n",
       "    <tr>\n",
       "      <td>204</td>\n",
       "      <td>1</td>\n",
       "      <td>[love, BPD, friend, cut, swallow, razorblades,...</td>\n",
       "    </tr>\n",
       "  </tbody>\n",
       "</table>\n",
       "</div>"
      ],
      "text/plain": [
       "     subreddit                                         tweet_list\n",
       "200          1  [friends, many, Throwaway, account, tire, feel...\n",
       "201          1  [think, admit, psych, ward, really, bad, episo...\n",
       "202          1  [Girlfriend, BPD, need, help, discuss, things,...\n",
       "203          1  [Dealing, loss, life, years, old, quiet, borde...\n",
       "204          1  [love, BPD, friend, cut, swallow, razorblades,..."
      ]
     },
     "execution_count": 10,
     "metadata": {},
     "output_type": "execute_result"
    }
   ],
   "source": [
    "train_tweets[train_tweets['subreddit']==1].drop('post',axis=1).head()"
   ]
  },
  {
   "cell_type": "markdown",
   "metadata": {},
   "source": [
    "## Model Selection and Machine Learning"
   ]
  },
  {
   "cell_type": "code",
   "execution_count": 11,
   "metadata": {},
   "outputs": [],
   "source": [
    "X = train_tweets['post']\n",
    "y = train_tweets['subreddit']\n",
    "test = test_tweets['post']"
   ]
  },
  {
   "cell_type": "code",
   "execution_count": 12,
   "metadata": {},
   "outputs": [],
   "source": [
    "from sklearn.model_selection import train_test_split\n",
    "msg_train, msg_test, label_train, label_test = train_test_split(train_tweets['post'], train_tweets['subreddit'], test_size=0.2)"
   ]
  },
  {
   "cell_type": "code",
   "execution_count": 13,
   "metadata": {},
   "outputs": [
    {
     "data": {
      "text/plain": [
       "Pipeline(memory=None,\n",
       "         steps=[('bow',\n",
       "                 CountVectorizer(analyzer=<function text_processing at 0x000001265AD56CA8>,\n",
       "                                 binary=False, decode_error='strict',\n",
       "                                 dtype=<class 'numpy.int64'>, encoding='utf-8',\n",
       "                                 input='content', lowercase=True, max_df=1.0,\n",
       "                                 max_features=None, min_df=1,\n",
       "                                 ngram_range=(1, 1), preprocessor=None,\n",
       "                                 stop_words=None, strip_accents=None,\n",
       "                                 token_pattern='(?u)\\\\b\\\\w\\\\w+\\\\b',\n",
       "                                 tokenizer=None, vocabulary=None)),\n",
       "                ('tfidf',\n",
       "                 TfidfTransformer(norm='l2', smooth_idf=True,\n",
       "                                  sublinear_tf=False, use_idf=True)),\n",
       "                ('classifier',\n",
       "                 MultinomialNB(alpha=1.0, class_prior=None, fit_prior=True))],\n",
       "         verbose=False)"
      ]
     },
     "execution_count": 13,
     "metadata": {},
     "output_type": "execute_result"
    }
   ],
   "source": [
    "#Machine Learning Pipeline\n",
    "pipeline = Pipeline([\n",
    "    ('bow',CountVectorizer(analyzer=text_processing)),  # strings to token integer counts\n",
    "    ('tfidf', TfidfTransformer()),  # integer counts to weighted TF-IDF scores\n",
    "    ('classifier', MultinomialNB()),  # train on TF-IDF vectors w/ Naive Bayes classifier\n",
    "])\n",
    "pipeline.fit(msg_train,label_train)"
   ]
  },
  {
   "cell_type": "code",
   "execution_count": 14,
   "metadata": {},
   "outputs": [
    {
     "name": "stdout",
     "output_type": "stream",
     "text": [
      "Classification report\n",
      "              precision    recall  f1-score   support\n",
      "\n",
      "           0       0.75      0.92      0.83        36\n",
      "           1       0.86      0.63      0.73        51\n",
      "           2       0.64      0.76      0.69        33\n",
      "\n",
      "    accuracy                           0.75       120\n",
      "   macro avg       0.75      0.77      0.75       120\n",
      "weighted avg       0.77      0.75      0.75       120\n",
      "\n",
      "Confusion Matrix\n",
      "[[33  0  3]\n",
      " [ 8 32 11]\n",
      " [ 3  5 25]]\n",
      "Accuracy Score\n",
      "0.75\n"
     ]
    }
   ],
   "source": [
    "predictions = pipeline.predict(msg_test)\n",
    "\n",
    "print(\"Classification report\")\n",
    "print(classification_report(predictions,label_test))\n",
    "print (\"Confusion Matrix\")\n",
    "print(confusion_matrix(predictions,label_test))\n",
    "print(\"Accuracy Score\")\n",
    "print(accuracy_score(predictions,label_test))"
   ]
  },
  {
   "cell_type": "code",
   "execution_count": 15,
   "metadata": {},
   "outputs": [],
   "source": [
    "def predict_condition(post):\n",
    "    condition = {0: 'anxiety', 1: 'bpd', 2: 'ptsd'}\n",
    "    return condition[post]"
   ]
  },
  {
   "cell_type": "code",
   "execution_count": 16,
   "metadata": {},
   "outputs": [],
   "source": [
    "msgt = msg_test.to_frame().reset_index()\n",
    "#print(random.choice(msg_test))\n",
    "#print(predict_condition(predictions[4]))"
   ]
  },
  {
   "cell_type": "code",
   "execution_count": 17,
   "metadata": {},
   "outputs": [],
   "source": [
    "predictions = predictions.tolist()\n",
    "msgt['predictions']=predictions"
   ]
  },
  {
   "cell_type": "code",
   "execution_count": 18,
   "metadata": {},
   "outputs": [
    {
     "data": {
      "text/html": [
       "<div>\n",
       "<style scoped>\n",
       "    .dataframe tbody tr th:only-of-type {\n",
       "        vertical-align: middle;\n",
       "    }\n",
       "\n",
       "    .dataframe tbody tr th {\n",
       "        vertical-align: top;\n",
       "    }\n",
       "\n",
       "    .dataframe thead th {\n",
       "        text-align: right;\n",
       "    }\n",
       "</style>\n",
       "<table border=\"1\" class=\"dataframe\">\n",
       "  <thead>\n",
       "    <tr style=\"text-align: right;\">\n",
       "      <th></th>\n",
       "      <th>post</th>\n",
       "      <th>predictions</th>\n",
       "    </tr>\n",
       "  </thead>\n",
       "  <tbody>\n",
       "    <tr>\n",
       "      <td>0</td>\n",
       "      <td>Meditation is making me anxious I do a couple ...</td>\n",
       "      <td>0</td>\n",
       "    </tr>\n",
       "    <tr>\n",
       "      <td>1</td>\n",
       "      <td>Raise your hand if you ruined your NYE with an...</td>\n",
       "      <td>1</td>\n",
       "    </tr>\n",
       "    <tr>\n",
       "      <td>2</td>\n",
       "      <td>Possible trauma from hospitalization, and peop...</td>\n",
       "      <td>2</td>\n",
       "    </tr>\n",
       "    <tr>\n",
       "      <td>3</td>\n",
       "      <td>PTSD resulting from car accident. Was wonderin...</td>\n",
       "      <td>2</td>\n",
       "    </tr>\n",
       "    <tr>\n",
       "      <td>4</td>\n",
       "      <td>Eating with anxiety I don't really know how to...</td>\n",
       "      <td>0</td>\n",
       "    </tr>\n",
       "    <tr>\n",
       "      <td>...</td>\n",
       "      <td>...</td>\n",
       "      <td>...</td>\n",
       "    </tr>\n",
       "    <tr>\n",
       "      <td>115</td>\n",
       "      <td>Less procrastination, less anxiety, less depre...</td>\n",
       "      <td>0</td>\n",
       "    </tr>\n",
       "    <tr>\n",
       "      <td>116</td>\n",
       "      <td>Help How do I help my FP see that he isn't hur...</td>\n",
       "      <td>1</td>\n",
       "    </tr>\n",
       "    <tr>\n",
       "      <td>117</td>\n",
       "      <td>[NFSW] [Vent] [Trigger Warning] Feel like I wo...</td>\n",
       "      <td>2</td>\n",
       "    </tr>\n",
       "    <tr>\n",
       "      <td>118</td>\n",
       "      <td>I have anxiety when I’m unfriended, blocked. I...</td>\n",
       "      <td>0</td>\n",
       "    </tr>\n",
       "    <tr>\n",
       "      <td>119</td>\n",
       "      <td>Partner Committed Himself to a Psychiatric Hol...</td>\n",
       "      <td>1</td>\n",
       "    </tr>\n",
       "  </tbody>\n",
       "</table>\n",
       "<p>120 rows × 2 columns</p>\n",
       "</div>"
      ],
      "text/plain": [
       "                                                  post  predictions\n",
       "0    Meditation is making me anxious I do a couple ...            0\n",
       "1    Raise your hand if you ruined your NYE with an...            1\n",
       "2    Possible trauma from hospitalization, and peop...            2\n",
       "3    PTSD resulting from car accident. Was wonderin...            2\n",
       "4    Eating with anxiety I don't really know how to...            0\n",
       "..                                                 ...          ...\n",
       "115  Less procrastination, less anxiety, less depre...            0\n",
       "116  Help How do I help my FP see that he isn't hur...            1\n",
       "117  [NFSW] [Vent] [Trigger Warning] Feel like I wo...            2\n",
       "118  I have anxiety when I’m unfriended, blocked. I...            0\n",
       "119  Partner Committed Himself to a Psychiatric Hol...            1\n",
       "\n",
       "[120 rows x 2 columns]"
      ]
     },
     "execution_count": 18,
     "metadata": {},
     "output_type": "execute_result"
    }
   ],
   "source": [
    "msgt[msgt.columns.drop(['index'])]"
   ]
  },
  {
   "cell_type": "code",
   "execution_count": 19,
   "metadata": {},
   "outputs": [],
   "source": [
    "label_test_valid = test_tweets['subreddit']"
   ]
  },
  {
   "cell_type": "code",
   "execution_count": 20,
   "metadata": {},
   "outputs": [
    {
     "data": {
      "text/plain": [
       "0      0\n",
       "1      0\n",
       "2      0\n",
       "3      0\n",
       "4      0\n",
       "      ..\n",
       "205    2\n",
       "206    2\n",
       "207    2\n",
       "208    2\n",
       "209    2\n",
       "Name: subreddit, Length: 210, dtype: int64"
      ]
     },
     "execution_count": 20,
     "metadata": {},
     "output_type": "execute_result"
    }
   ],
   "source": [
    "label_test_valid"
   ]
  },
  {
   "cell_type": "code",
   "execution_count": 21,
   "metadata": {},
   "outputs": [
    {
     "name": "stdout",
     "output_type": "stream",
     "text": [
      "Classification report\n",
      "              precision    recall  f1-score   support\n",
      "\n",
      "           0       0.63      0.86      0.73        51\n",
      "           1       0.76      0.63      0.69        84\n",
      "           2       0.80      0.75      0.77        75\n",
      "\n",
      "    accuracy                           0.73       210\n",
      "   macro avg       0.73      0.75      0.73       210\n",
      "weighted avg       0.74      0.73      0.73       210\n",
      "\n",
      "Confusion Matrix\n",
      "[[44  4  3]\n",
      " [20 53 11]\n",
      " [ 6 13 56]]\n",
      "Accuracy Score\n",
      "0.7285714285714285\n"
     ]
    }
   ],
   "source": [
    "test_predictions = pipeline.predict(test)\n",
    "\n",
    "print(\"Classification report\")\n",
    "print(classification_report(test_predictions,label_test_valid))\n",
    "print (\"Confusion Matrix\")\n",
    "print(confusion_matrix(test_predictions,label_test_valid))\n",
    "print(\"Accuracy Score\")\n",
    "print(accuracy_score(test_predictions,label_test_valid))"
   ]
  },
  {
   "cell_type": "code",
   "execution_count": 24,
   "metadata": {},
   "outputs": [],
   "source": [
    "test_predictions= test_predictions.tolist()"
   ]
  },
  {
   "cell_type": "code",
   "execution_count": 25,
   "metadata": {},
   "outputs": [
    {
     "data": {
      "text/html": [
       "<div>\n",
       "<style scoped>\n",
       "    .dataframe tbody tr th:only-of-type {\n",
       "        vertical-align: middle;\n",
       "    }\n",
       "\n",
       "    .dataframe tbody tr th {\n",
       "        vertical-align: top;\n",
       "    }\n",
       "\n",
       "    .dataframe thead th {\n",
       "        text-align: right;\n",
       "    }\n",
       "</style>\n",
       "<table border=\"1\" class=\"dataframe\">\n",
       "  <thead>\n",
       "    <tr style=\"text-align: right;\">\n",
       "      <th></th>\n",
       "      <th>subreddit</th>\n",
       "      <th>post</th>\n",
       "      <th>tweet_list</th>\n",
       "      <th>predictions</th>\n",
       "    </tr>\n",
       "  </thead>\n",
       "  <tbody>\n",
       "    <tr>\n",
       "      <td>0</td>\n",
       "      <td>0</td>\n",
       "      <td>Feel like life is over because I complimented ...</td>\n",
       "      <td>[Feel, like, life, compliment, younger, friend...</td>\n",
       "      <td>1</td>\n",
       "    </tr>\n",
       "    <tr>\n",
       "      <td>1</td>\n",
       "      <td>0</td>\n",
       "      <td>Skin is crawling and weird sleeping Wellburtin...</td>\n",
       "      <td>[Skin, crawl, weird, sleep, WellburtinXL, Anyo...</td>\n",
       "      <td>0</td>\n",
       "    </tr>\n",
       "    <tr>\n",
       "      <td>2</td>\n",
       "      <td>0</td>\n",
       "      <td>Anxiety: what helps and when to consult a psyc...</td>\n",
       "      <td>[Anxiety, help, consult, psychiatrist, long, s...</td>\n",
       "      <td>0</td>\n",
       "    </tr>\n",
       "    <tr>\n",
       "      <td>3</td>\n",
       "      <td>0</td>\n",
       "      <td>Can you identify this feeling? I sometimes hav...</td>\n",
       "      <td>[identify, feel, sometimes, strange, feel, can...</td>\n",
       "      <td>1</td>\n",
       "    </tr>\n",
       "    <tr>\n",
       "      <td>4</td>\n",
       "      <td>0</td>\n",
       "      <td>I’m not sure why this happens. My sister plays...</td>\n",
       "      <td>[sure, happen, sister, play, video, game, lot,...</td>\n",
       "      <td>0</td>\n",
       "    </tr>\n",
       "    <tr>\n",
       "      <td>...</td>\n",
       "      <td>...</td>\n",
       "      <td>...</td>\n",
       "      <td>...</td>\n",
       "      <td>...</td>\n",
       "    </tr>\n",
       "    <tr>\n",
       "      <td>205</td>\n",
       "      <td>2</td>\n",
       "      <td>PTSD episode on Dr. Phil So, recently theres t...</td>\n",
       "      <td>[PTSD, episode, Dr, Phil, recently, theres, ep...</td>\n",
       "      <td>2</td>\n",
       "    </tr>\n",
       "    <tr>\n",
       "      <td>206</td>\n",
       "      <td>2</td>\n",
       "      <td>Did anyone else with PTSD who watched James' M...</td>\n",
       "      <td>[anyone, else, PTSD, watch, James, McAvoy, fil...</td>\n",
       "      <td>2</td>\n",
       "    </tr>\n",
       "    <tr>\n",
       "      <td>207</td>\n",
       "      <td>2</td>\n",
       "      <td>I'm having bad episodes, and I am not sure why...</td>\n",
       "      <td>[bad, episodes, sure, even, ptsd, relate, May,...</td>\n",
       "      <td>2</td>\n",
       "    </tr>\n",
       "    <tr>\n",
       "      <td>208</td>\n",
       "      <td>2</td>\n",
       "      <td>I am of value. My value is not something I hav...</td>\n",
       "      <td>[value, value, something, earn, burden, love, ...</td>\n",
       "      <td>1</td>\n",
       "    </tr>\n",
       "    <tr>\n",
       "      <td>209</td>\n",
       "      <td>2</td>\n",
       "      <td>Do they actually care? Feels like the people I...</td>\n",
       "      <td>[actually, care, Feels, like, people, live, ca...</td>\n",
       "      <td>0</td>\n",
       "    </tr>\n",
       "  </tbody>\n",
       "</table>\n",
       "<p>210 rows × 4 columns</p>\n",
       "</div>"
      ],
      "text/plain": [
       "     subreddit                                               post  \\\n",
       "0            0  Feel like life is over because I complimented ...   \n",
       "1            0  Skin is crawling and weird sleeping Wellburtin...   \n",
       "2            0  Anxiety: what helps and when to consult a psyc...   \n",
       "3            0  Can you identify this feeling? I sometimes hav...   \n",
       "4            0  I’m not sure why this happens. My sister plays...   \n",
       "..         ...                                                ...   \n",
       "205          2  PTSD episode on Dr. Phil So, recently theres t...   \n",
       "206          2  Did anyone else with PTSD who watched James' M...   \n",
       "207          2  I'm having bad episodes, and I am not sure why...   \n",
       "208          2  I am of value. My value is not something I hav...   \n",
       "209          2  Do they actually care? Feels like the people I...   \n",
       "\n",
       "                                            tweet_list  predictions  \n",
       "0    [Feel, like, life, compliment, younger, friend...            1  \n",
       "1    [Skin, crawl, weird, sleep, WellburtinXL, Anyo...            0  \n",
       "2    [Anxiety, help, consult, psychiatrist, long, s...            0  \n",
       "3    [identify, feel, sometimes, strange, feel, can...            1  \n",
       "4    [sure, happen, sister, play, video, game, lot,...            0  \n",
       "..                                                 ...          ...  \n",
       "205  [PTSD, episode, Dr, Phil, recently, theres, ep...            2  \n",
       "206  [anyone, else, PTSD, watch, James, McAvoy, fil...            2  \n",
       "207  [bad, episodes, sure, even, ptsd, relate, May,...            2  \n",
       "208  [value, value, something, earn, burden, love, ...            1  \n",
       "209  [actually, care, Feels, like, people, live, ca...            0  \n",
       "\n",
       "[210 rows x 4 columns]"
      ]
     },
     "execution_count": 25,
     "metadata": {},
     "output_type": "execute_result"
    }
   ],
   "source": [
    "test_tweets['predictions'] = test_predictions\n",
    "test_tweets"
   ]
  },
  {
   "cell_type": "code",
   "execution_count": 28,
   "metadata": {},
   "outputs": [
    {
     "name": "stdout",
     "output_type": "stream",
     "text": [
      "I’m not sure why this happens. My sister plays video games a lot, and when she does, she always invites one of her friends into a phone call to chat together while playing. \n",
      "\n",
      "However, hearing her laugh and talk with her friends gives me such bad anxiety. I can’t do much else besides whimper and  cry and scream. \n",
      "\n",
      "And every time I ask her to quiet down, she just gets louder, which makes me more anxious, which results in more screams. It eventually becomes so bad that she ends the phone call with her friend and hides out in her room. It makes me feel guilty every time. \n",
      "\n",
      "I’m not sure why this happens. It doesn’t happen (that bad) when anyone else in my family takes a phone call. It’s just with my sister that it gets that bad. \n",
      "0\n"
     ]
    }
   ],
   "source": [
    "print(test[4])\n",
    "print(test_predictions[4])"
   ]
  },
  {
   "cell_type": "code",
   "execution_count": 32,
   "metadata": {},
   "outputs": [
    {
     "name": "stdout",
     "output_type": "stream",
     "text": [
      "When you have PTSD and then have another traumatic event how do you cope? I've had PTSD for a long time due to various traumatic incidents in my life, just too many to list. I honestly feel like I've lived a cursed life. In November I experienced yet another extremely traumatic event. I've been in therapy a long time and had made so much progress. There were days I was actually happy and not a mess. Then the event happened and it's like everything I worked for was gone. I'm worse than I ever have been. I started seeing a trauma therapist but I just don't feel like I can handle it. It feels like the trauma is ongoing and won't end for a long time because of hearings and court dates and the thing I dread the most, a trial. I'm at the point I don't even want justice, but everyone around me is pushing me along saying I have to do it to protect any future victims. I've been such a mess I have almost been hospitalized multiple times for suicidal ideation. I a lot of times feel like I wish my attacker had succeeded so I didn't have to go through all this. Do I have to start all over from the beginning? I know I need to quit using heroin and other opiates but if I don't I feel like I can't stand to exist.\n",
      "2\n"
     ]
    }
   ],
   "source": [
    "print(test[170])\n",
    "print(test_predictions[170])"
   ]
  },
  {
   "cell_type": "code",
   "execution_count": 48,
   "metadata": {},
   "outputs": [
    {
     "name": "stdout",
     "output_type": "stream",
     "text": [
      "Pregnant and :( I'm 35 weeks pregnant and the father and I aren't together. He's told me his family would consider it their biggest fear if we ended up together. Just now I asked if we could see each other this week and he said no, he wants to get an early night one night and he's out with friends every other night (movies, sports, dinner, art exhibition etc). He said, just tell me what you want to say now over the phone, and I said I just wanted us to talk in person, and he said suit yourself and we ended the conversation. I have no idea when we'll talk.\n",
      "\n",
      "Up until recently I thought my mom would come over for the birth but that's off now her malignant NPD husband who severely abused me as a child/teenager is back (she has BPD and was equally abusive but I was hoping things might have changed). Nothing has changed in that situation since that time.\n",
      "\n",
      "I feel so sad and alone. I'm trying to stay positive because I have to for the baby. I have no friends and am totally isolated. I've seen that he (the father) has notifications from dating apps on his phone when we've been together. The more upset and hormonal I get, I feel like the more pathetic and unattractive and unmotivated I am. I have a place on a college course for after the baby's born and he tells me he doesn't think it will be doable, and I have serious concerns about being able to do it with a baby. He is scheduled to get a promotion around the time the baby's due and has given me his friends' numbers to call in case I go into labor and he's not around.\n",
      "\n",
      "\n",
      "1\n"
     ]
    }
   ],
   "source": [
    "print(test[80])\n",
    "print(test_predictions[80])"
   ]
  },
  {
   "cell_type": "code",
   "execution_count": null,
   "metadata": {},
   "outputs": [],
   "source": []
  }
 ],
 "metadata": {
  "kernelspec": {
   "display_name": "Python 3",
   "language": "python",
   "name": "python3"
  },
  "language_info": {
   "codemirror_mode": {
    "name": "ipython",
    "version": 3
   },
   "file_extension": ".py",
   "mimetype": "text/x-python",
   "name": "python",
   "nbconvert_exporter": "python",
   "pygments_lexer": "ipython3",
   "version": "3.7.4"
  }
 },
 "nbformat": 4,
 "nbformat_minor": 2
}
